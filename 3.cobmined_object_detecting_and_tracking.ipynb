{
 "cells": [
  {
   "cell_type": "markdown",
   "metadata": {},
   "source": [
    "## Combined Detection + Tracking Algorithm\n",
    "\n",
    "In general, we run our detection algorithm on every $N$ frames because it is more expensive than the tracking algorithm. Between these frames, our tracking algorithm keeps track if the detected boxes and updates their position.  \n",
    "\n",
    "Here, We see how these two are combined together to process a video stream."
   ]
  },
  {
   "cell_type": "code",
   "execution_count": null,
   "metadata": {},
   "outputs": [],
   "source": [
    "%config IPCompleter.greedy=True"
   ]
  },
  {
   "cell_type": "code",
   "execution_count": null,
   "metadata": {},
   "outputs": [],
   "source": [
    "from packages.object_tracking import ObjectTracker\n",
    "from packages.utils.visualization import display_image, add_detected_boxes_to_image_array, DynamicPlot\n",
    "from packages.utils.images import read_image\n",
    "from packages.object_detection import ObjectDetector\n",
    "from packages.utils.videos import VideoSource"
   ]
  },
  {
   "cell_type": "code",
   "execution_count": null,
   "metadata": {},
   "outputs": [],
   "source": [
    "DETECT_EVERY_N_FRAME = 10"
   ]
  },
  {
   "cell_type": "code",
   "execution_count": null,
   "metadata": {},
   "outputs": [],
   "source": [
    "vs = VideoSource('./videos/example_02.mp4')"
   ]
  },
  {
   "cell_type": "code",
   "execution_count": null,
   "metadata": {},
   "outputs": [],
   "source": [
    "detector = ObjectDetector('ssd_inception_v2')"
   ]
  },
  {
   "cell_type": "code",
   "execution_count": null,
   "metadata": {},
   "outputs": [],
   "source": [
    "object_tracker = ObjectTracker()"
   ]
  },
  {
   "cell_type": "code",
   "execution_count": null,
   "metadata": {},
   "outputs": [],
   "source": [
    "%matplotlib\n",
    "plot = DynamicPlot(figsize=(6, 6))\n",
    "for frame, frame_count in vs.stream():\n",
    "    if frame_count % DETECT_EVERY_N_FRAME == 0:\n",
    "        output_dict = detector.detect_people(frame)\n",
    "        object_tracker.start_tracking(output_dict, frame)\n",
    "    else:\n",
    "        object_tracker.update(frame)\n",
    "    add_detected_boxes_to_image_array(frame, object_tracker.targets)\n",
    "    plot.update_image(frame, title=\"frame {}\".format(frame_count), pause_ms=1)\n",
    "\n",
    "plot.release()\n",
    "vs.release()"
   ]
  }
 ],
 "metadata": {
  "kernelspec": {
   "display_name": "Python 3",
   "language": "python",
   "name": "python3"
  },
  "language_info": {
   "codemirror_mode": {
    "name": "ipython",
    "version": 3
   },
   "file_extension": ".py",
   "mimetype": "text/x-python",
   "name": "python",
   "nbconvert_exporter": "python",
   "pygments_lexer": "ipython3",
   "version": "3.8.3"
  }
 },
 "nbformat": 4,
 "nbformat_minor": 4
}
