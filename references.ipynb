{
 "cells": [
  {
   "cell_type": "markdown",
   "metadata": {},
   "source": [
    "How to track persistently multiple moving things from frame-by-frame object detections inputs\n",
    "* https://docs.google.com/document/d/1g79jH6Yb758obFthPlSvBFNShLDfF21tF9e9ohw8MZM\n",
    "* https://github.com/bochinski/iou-tracker/\n",
    "\n",
    "OpenCV Matching Faces Over Time:\n",
    "* https://shiffman.net/general/2011/04/26/opencv-matching-faces-over-time/\n",
    "\n",
    "Facebook's detector:\n",
    "* https://github.com/facebookresearch/detectron2\n",
    "* https://colab.research.google.com/drive/16jcaJoc6bCFAQ96jDe2HwtXj7BMD_-m5\n",
    "* https://ai.facebook.com/blog/-detectron2-a-pytorch-based-modular-object-detection-library-/\n",
    "* https://www.dlology.com/blog/how-to-train-detectron2-with-custom-coco-datasets/\n",
    "\n",
    "Tracking:\n",
    "* https://github.com/abewley/sort\n",
    "* https://nanonets.com/blog/object-tracking-deepsort/\n",
    "* https://github.com/nwojke/deep_sort\n",
    "\n",
    "MOT Challenge:\n",
    "* https://motchallenge.net/results/CVPR_2020_MOTS_Challenge/\n",
    "\n",
    "\n",
    "Real-Time Multiple Object Tracking:\n",
    "* https://arxiv.org/pdf/1709.03572.pdf\n",
    "\n",
    "\n",
    "ROLO:\n",
    "* http://guanghan.info/projects/ROLO/\n",
    "\n",
    "\n",
    "Object Detection and Tracking in 2020:\n",
    "https://blog.netcetera.com/object-detection-and-tracking-in-2020-f10fb6ff9af3"
   ]
  },
  {
   "cell_type": "markdown",
   "metadata": {},
   "source": [
    "## Feature Detection\n",
    "\n",
    "### White box methods:\n",
    "\n",
    "* A general overview: https://medium.com/data-breach/introduction-to-orb-oriented-fast-and-rotated-brief-4220e8ec40cf\n",
    "* Similarity Learning with (or without) Convolutional Neural Network: \n",
    "http://slazebni.cs.illinois.edu/spring17/lec09_similarity.pdf"
   ]
  },
  {
   "cell_type": "markdown",
   "metadata": {},
   "source": [
    "## Person Re-identification\n",
    "* Best solution: https://github.com/layumi/Person_reID_baseline_pytorch/tree/master/tutorial\n",
    "* Open re-id open source: https://cysu.github.io/open-reid/examples/training_id.html\n",
    "* Overview https://medium.com/@niruhan/a-practical-guide-to-person-re-identification-using-alignedreid-7683222da644\n",
    "* https://github.com/huanghoujing/AlignedReID-Re-Production-Pytorch\n",
    "* https://github.com/cftang0827/pedestrian_recognition\n",
    "* https://github.com/layumi/Person_reID_baseline_pytorch/tree/master/tutorial\n",
    "* Torch Reid: https://kaiyangzhou.github.io/deep-person-reid/user_guide.html#use-torchreid-as-a-feature-extractor-in-your-projects"
   ]
  },
  {
   "cell_type": "markdown",
   "metadata": {},
   "source": [
    "## Tracking:\n",
    "\n",
    "* https://github.com/ZidanMusk/experimenting-with-sort\n",
    "* https://github.com/abewley/sort"
   ]
  },
  {
   "cell_type": "code",
   "execution_count": null,
   "metadata": {},
   "outputs": [],
   "source": []
  },
  {
   "cell_type": "code",
   "execution_count": null,
   "metadata": {},
   "outputs": [],
   "source": []
  },
  {
   "cell_type": "code",
   "execution_count": null,
   "metadata": {},
   "outputs": [],
   "source": []
  },
  {
   "cell_type": "code",
   "execution_count": null,
   "metadata": {},
   "outputs": [],
   "source": []
  }
 ],
 "metadata": {
  "kernelspec": {
   "display_name": "Python 3",
   "language": "python",
   "name": "python3"
  },
  "language_info": {
   "codemirror_mode": {
    "name": "ipython",
    "version": 3
   },
   "file_extension": ".py",
   "mimetype": "text/x-python",
   "name": "python",
   "nbconvert_exporter": "python",
   "pygments_lexer": "ipython3",
   "version": "3.8.3"
  }
 },
 "nbformat": 4,
 "nbformat_minor": 4
}
