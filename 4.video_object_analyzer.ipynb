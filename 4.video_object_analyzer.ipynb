{
 "cells": [
  {
   "cell_type": "markdown",
   "metadata": {},
   "source": [
    "## Video Object Analyzer\n",
    "\n",
    "Our `ObjectDetector` and `ObjectTracker` classes handle the two sides of our object tracking algorithm. But if we look closely, we realize the only parameter controlling the system when working with video inputs is the ratio of object detection to object tracking.  \n",
    "\n",
    "This justifies us to add yet another level of abstraction to our system to make working with it even simple.  \n",
    "We add a `VideoObjectAnalyzer` class to hold both `ObjectTracker` and `ObjectDetector` instances and manages their contribution and provides a single method to work with.  \n",
    "\n",
    "In our system, we can call the `process_frame` method of this `VideoObjectAnalyzer` class and pass out current frame to it. It decides whether to use object detection or object tracking based on the parameter given to it when it was declared. \n",
    "\n",
    "Let's have a look at the final code:"
   ]
  },
  {
   "cell_type": "code",
   "execution_count": 1,
   "metadata": {},
   "outputs": [],
   "source": [
    "%config IPCompleter.greedy=True"
   ]
  },
  {
   "cell_type": "code",
   "execution_count": 2,
   "metadata": {},
   "outputs": [],
   "source": [
    "from packages.video_processing import VideoObjectAnalyzer\n",
    "from packages.utils.videos import VideoSource\n",
    "from packages.utils.visualization import add_detected_boxes_to_image_array, DynamicPlot"
   ]
  },
  {
   "cell_type": "code",
   "execution_count": 3,
   "metadata": {},
   "outputs": [
    {
     "name": "stdout",
     "output_type": "stream",
     "text": [
      "[INFO] loading model...\n",
      "Done.\n"
     ]
    }
   ],
   "source": [
    "video_object_analyzer = VideoObjectAnalyzer(detector=\"ssd_inception_v2\", detect_every_n_secs=10)"
   ]
  },
  {
   "cell_type": "code",
   "execution_count": 4,
   "metadata": {},
   "outputs": [],
   "source": [
    "vs = VideoSource('./videos/example_02.mp4')"
   ]
  },
  {
   "cell_type": "code",
   "execution_count": 5,
   "metadata": {},
   "outputs": [
    {
     "name": "stdout",
     "output_type": "stream",
     "text": [
      "Using matplotlib backend: MacOSX\n"
     ]
    }
   ],
   "source": [
    "%matplotlib\n",
    "plot = DynamicPlot(figsize=(6, 6))\n",
    "for frame, frame_count in vs.stream():\n",
    "    targets = video_object_analyzer.process_frame(frame, frame_count=frame_count)\n",
    "    add_detected_boxes_to_image_array(frame, targets)\n",
    "    plot.update_image(frame, title=\"frame {}\".format(frame_count), pause_ms=1)\n",
    "\n",
    "plot.release()\n",
    "vs.release()"
   ]
  }
 ],
 "metadata": {
  "kernelspec": {
   "display_name": "Python 3",
   "language": "python",
   "name": "python3"
  },
  "language_info": {
   "codemirror_mode": {
    "name": "ipython",
    "version": 3
   },
   "file_extension": ".py",
   "mimetype": "text/x-python",
   "name": "python",
   "nbconvert_exporter": "python",
   "pygments_lexer": "ipython3",
   "version": "3.8.3"
  }
 },
 "nbformat": 4,
 "nbformat_minor": 4
}
